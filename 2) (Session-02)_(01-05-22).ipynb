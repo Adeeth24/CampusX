{
 "cells": [
  {
   "cell_type": "markdown",
   "id": "1500b3cf",
   "metadata": {},
   "source": [
    "# Python basics"
   ]
  },
  {
   "cell_type": "code",
   "execution_count": 3,
   "id": "8af24fce",
   "metadata": {},
   "outputs": [
    {
     "name": "stdout",
     "output_type": "stream",
     "text": [
      "Enter any country nameUSA\n"
     ]
    }
   ],
   "source": [
    "country = input('Enter any country name')"
   ]
  },
  {
   "cell_type": "code",
   "execution_count": 4,
   "id": "d730d4f9",
   "metadata": {},
   "outputs": [
    {
     "data": {
      "text/plain": [
       "'USA'"
      ]
     },
     "execution_count": 4,
     "metadata": {},
     "output_type": "execute_result"
    }
   ],
   "source": [
    "country"
   ]
  },
  {
   "cell_type": "code",
   "execution_count": 5,
   "id": "e91d5a1b",
   "metadata": {},
   "outputs": [
    {
     "name": "stdout",
     "output_type": "stream",
     "text": [
      "Enter any hollywood movie nameMatrix\n"
     ]
    },
    {
     "data": {
      "text/plain": [
       "'Matrix'"
      ]
     },
     "execution_count": 5,
     "metadata": {},
     "output_type": "execute_result"
    }
   ],
   "source": [
    "Moviename=input(\"Enter any hollywood movie name\")\n",
    "Moviename"
   ]
  },
  {
   "cell_type": "code",
   "execution_count": 6,
   "id": "eabaa58f",
   "metadata": {},
   "outputs": [
    {
     "name": "stdout",
     "output_type": "stream",
     "text": [
      "Enter any delecious food namePizza\n"
     ]
    },
    {
     "data": {
      "text/plain": [
       "'Pizza'"
      ]
     },
     "execution_count": 6,
     "metadata": {},
     "output_type": "execute_result"
    }
   ],
   "source": [
    "foodname=input('Enter any delecious food name')\n",
    "foodname"
   ]
  },
  {
   "cell_type": "code",
   "execution_count": 7,
   "id": "56c55611",
   "metadata": {},
   "outputs": [
    {
     "data": {
      "text/plain": [
       "str"
      ]
     },
     "execution_count": 7,
     "metadata": {},
     "output_type": "execute_result"
    }
   ],
   "source": [
    "type(foodname)"
   ]
  },
  {
   "cell_type": "code",
   "execution_count": 8,
   "id": "999b0c08",
   "metadata": {},
   "outputs": [
    {
     "name": "stdout",
     "output_type": "stream",
     "text": [
      "Enter any numb67\n"
     ]
    },
    {
     "data": {
      "text/plain": [
       "'67'"
      ]
     },
     "execution_count": 8,
     "metadata": {},
     "output_type": "execute_result"
    }
   ],
   "source": [
    "numb1=input('Enter any numb')\n",
    "numb1"
   ]
  },
  {
   "cell_type": "code",
   "execution_count": 9,
   "id": "3d81fc63",
   "metadata": {},
   "outputs": [
    {
     "data": {
      "text/plain": [
       "str"
      ]
     },
     "execution_count": 9,
     "metadata": {},
     "output_type": "execute_result"
    }
   ],
   "source": [
    "type(numb1)"
   ]
  },
  {
   "cell_type": "code",
   "execution_count": 10,
   "id": "0e57af7c",
   "metadata": {},
   "outputs": [
    {
     "data": {
      "text/plain": [
       "10"
      ]
     },
     "execution_count": 10,
     "metadata": {},
     "output_type": "execute_result"
    }
   ],
   "source": [
    "a=10\n",
    "a\n"
   ]
  },
  {
   "cell_type": "code",
   "execution_count": 11,
   "id": "01a59da9",
   "metadata": {},
   "outputs": [
    {
     "name": "stdout",
     "output_type": "stream",
     "text": [
      "10\n"
     ]
    }
   ],
   "source": [
    "print(a)"
   ]
  },
  {
   "cell_type": "code",
   "execution_count": 12,
   "id": "77ea080e",
   "metadata": {},
   "outputs": [
    {
     "data": {
      "text/plain": [
       "int"
      ]
     },
     "execution_count": 12,
     "metadata": {},
     "output_type": "execute_result"
    }
   ],
   "source": [
    "b=56\n",
    "type(b)"
   ]
  },
  {
   "cell_type": "code",
   "execution_count": 14,
   "id": "44842919",
   "metadata": {},
   "outputs": [
    {
     "data": {
      "text/plain": [
       "56.0"
      ]
     },
     "execution_count": 14,
     "metadata": {},
     "output_type": "execute_result"
    }
   ],
   "source": [
    "pf=float(b)\n",
    "pf"
   ]
  },
  {
   "cell_type": "code",
   "execution_count": 15,
   "id": "22ce1d33",
   "metadata": {},
   "outputs": [
    {
     "data": {
      "text/plain": [
       "float"
      ]
     },
     "execution_count": 15,
     "metadata": {},
     "output_type": "execute_result"
    }
   ],
   "source": [
    "type(pf)"
   ]
  },
  {
   "cell_type": "code",
   "execution_count": 16,
   "id": "c1ad5f9d",
   "metadata": {},
   "outputs": [
    {
     "data": {
      "text/plain": [
       "float"
      ]
     },
     "execution_count": 16,
     "metadata": {},
     "output_type": "execute_result"
    }
   ],
   "source": [
    "c=34.56\n",
    "type(c)"
   ]
  },
  {
   "cell_type": "code",
   "execution_count": 17,
   "id": "864faf90",
   "metadata": {},
   "outputs": [
    {
     "data": {
      "text/plain": [
       "int"
      ]
     },
     "execution_count": 17,
     "metadata": {},
     "output_type": "execute_result"
    }
   ],
   "source": [
    "cd=int(c)\n",
    "type(cd)"
   ]
  },
  {
   "cell_type": "code",
   "execution_count": 18,
   "id": "4fd2f551",
   "metadata": {},
   "outputs": [
    {
     "data": {
      "text/plain": [
       "34"
      ]
     },
     "execution_count": 18,
     "metadata": {},
     "output_type": "execute_result"
    }
   ],
   "source": [
    "cd"
   ]
  },
  {
   "cell_type": "markdown",
   "id": "ed43c669",
   "metadata": {},
   "source": [
    "Area of Rectnagle"
   ]
  },
  {
   "cell_type": "code",
   "execution_count": 19,
   "id": "9ccccad1",
   "metadata": {},
   "outputs": [
    {
     "name": "stdout",
     "output_type": "stream",
     "text": [
      "Area of rectangle= 392\n"
     ]
    }
   ],
   "source": [
    "l=56  # Static value format\n",
    "b=7\n",
    "area = l*b\n",
    "print(\"Area of rectangle=\",area)"
   ]
  },
  {
   "cell_type": "code",
   "execution_count": 20,
   "id": "5a6651bc",
   "metadata": {},
   "outputs": [
    {
     "name": "stdout",
     "output_type": "stream",
     "text": [
      "Enter any length3\n",
      "Length= 3\n",
      "Enter any Breadth23\n",
      "breadth= 23\n",
      "Area of rectangle = 69\n"
     ]
    }
   ],
   "source": [
    "l=int(input(\"Enter any length\"))\n",
    "print(\"Length=\",l)\n",
    "\n",
    "b=int(input(\"Enter any Breadth\"))\n",
    "print(\"breadth=\",b)\n",
    "\n",
    "areaofrectangle=l*b\n",
    "print(\"Area of rectangle =\",areaofrectangle)"
   ]
  },
  {
   "cell_type": "code",
   "execution_count": 24,
   "id": "c14456f5",
   "metadata": {},
   "outputs": [
    {
     "name": "stdout",
     "output_type": "stream",
     "text": [
      "Enter any value of pi = 3.14\n",
      "pi= 3.14\n",
      "Enter value of radius = 37\n",
      "37.0\n",
      "Area of circle= 4298.66\n",
      "area of circle= 4298.66\n"
     ]
    }
   ],
   "source": [
    "pi=float(input(\"Enter any value of pi = \"))\n",
    "print(\"pi=\",pi)\n",
    "\n",
    "radius=float(input(\"Enter value of radius = \"))\n",
    "print(radius)\n",
    "areaofcircle=pi*(radius**2)\n",
    "\n",
    "print(\"Area of circle=\",areaofcircle)\n",
    "\n",
    "print(\"area of circle=\",round(areaofcircle,2))"
   ]
  },
  {
   "cell_type": "code",
   "execution_count": 26,
   "id": "725bfee8",
   "metadata": {},
   "outputs": [
    {
     "name": "stdout",
     "output_type": "stream",
     "text": [
      "Enter any value to find square root64\n",
      "The square root of =  64 is  8.0\n"
     ]
    }
   ],
   "source": [
    "s=int(input('Enter any value to find square root'))\n",
    "p=s**(1/2)\n",
    "print(\"The square root of = \",s,'is ',p)"
   ]
  },
  {
   "cell_type": "markdown",
   "id": "22a6cffa",
   "metadata": {},
   "source": [
    "# Data Structures\n",
    "\n",
    "List\n",
    "Tuples\n",
    "Dictionary\n",
    "sets"
   ]
  },
  {
   "cell_type": "markdown",
   "id": "438dd3a8",
   "metadata": {},
   "source": [
    "List :- Collection of items in order way"
   ]
  },
  {
   "cell_type": "code",
   "execution_count": 27,
   "id": "1881e083",
   "metadata": {},
   "outputs": [],
   "source": [
    "list1=[1,2,4,6,7]"
   ]
  },
  {
   "cell_type": "code",
   "execution_count": 28,
   "id": "331eec14",
   "metadata": {},
   "outputs": [],
   "source": [
    "list2=[23.4,56.7,12.45]"
   ]
  },
  {
   "cell_type": "code",
   "execution_count": 29,
   "id": "88d4dc85",
   "metadata": {},
   "outputs": [],
   "source": [
    "list3=['Matrix',234.5,12,34,True]"
   ]
  },
  {
   "cell_type": "code",
   "execution_count": 30,
   "id": "a57d3cbe",
   "metadata": {},
   "outputs": [
    {
     "name": "stdout",
     "output_type": "stream",
     "text": [
      "['Matrix', 234.5, 12, 34, True]\n"
     ]
    }
   ],
   "source": [
    "print(list3)"
   ]
  },
  {
   "cell_type": "code",
   "execution_count": 33,
   "id": "dd00bcdb",
   "metadata": {},
   "outputs": [
    {
     "data": {
      "text/plain": [
       "34"
      ]
     },
     "execution_count": 33,
     "metadata": {},
     "output_type": "execute_result"
    }
   ],
   "source": [
    "list3[3]  # indexing 3 used"
   ]
  },
  {
   "cell_type": "code",
   "execution_count": 32,
   "id": "41e04d2f",
   "metadata": {},
   "outputs": [
    {
     "data": {
      "text/plain": [
       "True"
      ]
     },
     "execution_count": 32,
     "metadata": {},
     "output_type": "execute_result"
    }
   ],
   "source": [
    "list3[4]"
   ]
  },
  {
   "cell_type": "code",
   "execution_count": 34,
   "id": "c5e6f777",
   "metadata": {},
   "outputs": [
    {
     "data": {
      "text/plain": [
       "[234.5, 12, 34]"
      ]
     },
     "execution_count": 34,
     "metadata": {},
     "output_type": "execute_result"
    }
   ],
   "source": [
    "# Slicing of indexing\n",
    "\n",
    "list3[1:4]"
   ]
  },
  {
   "cell_type": "code",
   "execution_count": 35,
   "id": "14e985c1",
   "metadata": {},
   "outputs": [
    {
     "data": {
      "text/plain": [
       "[234.5, 34]"
      ]
     },
     "execution_count": 35,
     "metadata": {},
     "output_type": "execute_result"
    }
   ],
   "source": [
    "list3[1:4:2]"
   ]
  },
  {
   "cell_type": "code",
   "execution_count": 37,
   "id": "7333a764",
   "metadata": {},
   "outputs": [
    {
     "data": {
      "text/plain": [
       "['Matrix', 12, True]"
      ]
     },
     "execution_count": 37,
     "metadata": {},
     "output_type": "execute_result"
    }
   ],
   "source": [
    "list3[0:5:2]"
   ]
  },
  {
   "cell_type": "code",
   "execution_count": 38,
   "id": "ee48c223",
   "metadata": {},
   "outputs": [
    {
     "data": {
      "text/plain": [
       "['Matrix', 12]"
      ]
     },
     "execution_count": 38,
     "metadata": {},
     "output_type": "execute_result"
    }
   ],
   "source": [
    "list3[0:4:2]"
   ]
  },
  {
   "cell_type": "code",
   "execution_count": 39,
   "id": "32379d69",
   "metadata": {},
   "outputs": [
    {
     "data": {
      "text/plain": [
       "34"
      ]
     },
     "execution_count": 39,
     "metadata": {},
     "output_type": "execute_result"
    }
   ],
   "source": [
    "list3[-2]"
   ]
  },
  {
   "cell_type": "code",
   "execution_count": null,
   "id": "d59455b5",
   "metadata": {},
   "outputs": [],
   "source": []
  }
 ],
 "metadata": {
  "kernelspec": {
   "display_name": "Python 3 (ipykernel)",
   "language": "python",
   "name": "python3"
  },
  "language_info": {
   "codemirror_mode": {
    "name": "ipython",
    "version": 3
   },
   "file_extension": ".py",
   "mimetype": "text/x-python",
   "name": "python",
   "nbconvert_exporter": "python",
   "pygments_lexer": "ipython3",
   "version": "3.9.7"
  }
 },
 "nbformat": 4,
 "nbformat_minor": 5
}
