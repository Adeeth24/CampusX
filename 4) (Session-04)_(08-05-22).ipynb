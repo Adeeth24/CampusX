{
 "cells": [
  {
   "cell_type": "markdown",
   "id": "77c5169f",
   "metadata": {},
   "source": [
    "# Dictinary"
   ]
  },
  {
   "cell_type": "code",
   "execution_count": 4,
   "id": "2758d46e",
   "metadata": {},
   "outputs": [
    {
     "data": {
      "text/plain": [
       "{'id': 201, 'Name': 'John', 'Position': 'Manager'}"
      ]
     },
     "execution_count": 4,
     "metadata": {},
     "output_type": "execute_result"
    }
   ],
   "source": [
    "empd1={'id':201, 'Name':'John','Position':'Manager'}\n",
    "empd1"
   ]
  },
  {
   "cell_type": "code",
   "execution_count": 5,
   "id": "115b53e4",
   "metadata": {},
   "outputs": [
    {
     "data": {
      "text/plain": [
       "201"
      ]
     },
     "execution_count": 5,
     "metadata": {},
     "output_type": "execute_result"
    }
   ],
   "source": [
    "empd1['id']"
   ]
  },
  {
   "cell_type": "code",
   "execution_count": 6,
   "id": "a3fbda98",
   "metadata": {},
   "outputs": [
    {
     "data": {
      "text/plain": [
       "'John'"
      ]
     },
     "execution_count": 6,
     "metadata": {},
     "output_type": "execute_result"
    }
   ],
   "source": [
    "empd1['Name']"
   ]
  },
  {
   "cell_type": "code",
   "execution_count": 7,
   "id": "3c73c26c",
   "metadata": {},
   "outputs": [
    {
     "data": {
      "text/plain": [
       "{'id': 201, 'Name': 'John', 'Position': 'Manager', 'Salary': 90000}"
      ]
     },
     "execution_count": 7,
     "metadata": {},
     "output_type": "execute_result"
    }
   ],
   "source": [
    "empd1.update({'Salary':90000})\n",
    "empd1"
   ]
  },
  {
   "cell_type": "code",
   "execution_count": 8,
   "id": "ab0d97c4",
   "metadata": {},
   "outputs": [
    {
     "data": {
      "text/plain": [
       "dict_values([201, 'John', 'Manager', 90000])"
      ]
     },
     "execution_count": 8,
     "metadata": {},
     "output_type": "execute_result"
    }
   ],
   "source": [
    "empd1.values()"
   ]
  },
  {
   "cell_type": "code",
   "execution_count": 9,
   "id": "b97b2246",
   "metadata": {},
   "outputs": [
    {
     "data": {
      "text/plain": [
       "dict_items([('id', 201), ('Name', 'John'), ('Position', 'Manager'), ('Salary', 90000)])"
      ]
     },
     "execution_count": 9,
     "metadata": {},
     "output_type": "execute_result"
    }
   ],
   "source": [
    "empd1.items()"
   ]
  },
  {
   "cell_type": "code",
   "execution_count": 10,
   "id": "0abc7f08",
   "metadata": {},
   "outputs": [
    {
     "data": {
      "text/plain": [
       "dict_keys(['id', 'Name', 'Position', 'Salary'])"
      ]
     },
     "execution_count": 10,
     "metadata": {},
     "output_type": "execute_result"
    }
   ],
   "source": [
    "empd1.keys()"
   ]
  },
  {
   "cell_type": "code",
   "execution_count": 11,
   "id": "205fd97a",
   "metadata": {},
   "outputs": [
    {
     "data": {
      "text/plain": [
       "90000"
      ]
     },
     "execution_count": 11,
     "metadata": {},
     "output_type": "execute_result"
    }
   ],
   "source": [
    "empd1['Salary']"
   ]
  },
  {
   "cell_type": "code",
   "execution_count": 13,
   "id": "bae51663",
   "metadata": {},
   "outputs": [
    {
     "data": {
      "text/plain": [
       "{'id': 201, 'Name': 'John', 'Position': 'Manager', 'Salary': 95000}"
      ]
     },
     "execution_count": 13,
     "metadata": {},
     "output_type": "execute_result"
    }
   ],
   "source": [
    "empd1['Salary']=95000\n",
    "empd1"
   ]
  },
  {
   "cell_type": "code",
   "execution_count": 14,
   "id": "dd9cb3e0",
   "metadata": {},
   "outputs": [],
   "source": [
    "empd1['Position']='Director'"
   ]
  },
  {
   "cell_type": "code",
   "execution_count": 15,
   "id": "f86cb8ac",
   "metadata": {},
   "outputs": [
    {
     "data": {
      "text/plain": [
       "{'id': 201, 'Name': 'John', 'Position': 'Director', 'Salary': 95000}"
      ]
     },
     "execution_count": 15,
     "metadata": {},
     "output_type": "execute_result"
    }
   ],
   "source": [
    "empd1"
   ]
  },
  {
   "cell_type": "code",
   "execution_count": 16,
   "id": "803d54cf",
   "metadata": {},
   "outputs": [
    {
     "data": {
      "text/plain": [
       "4"
      ]
     },
     "execution_count": 16,
     "metadata": {},
     "output_type": "execute_result"
    }
   ],
   "source": [
    "len(empd1)"
   ]
  },
  {
   "cell_type": "code",
   "execution_count": 17,
   "id": "f7215a48",
   "metadata": {},
   "outputs": [
    {
     "data": {
      "text/plain": [
       "{'Name': 'John', 'Position': 'Director', 'Salary': 95000}"
      ]
     },
     "execution_count": 17,
     "metadata": {},
     "output_type": "execute_result"
    }
   ],
   "source": [
    "del empd1['id']\n",
    "empd1"
   ]
  },
  {
   "cell_type": "code",
   "execution_count": 19,
   "id": "ca22229c",
   "metadata": {},
   "outputs": [
    {
     "data": {
      "text/plain": [
       "{'Position': 'Director', 'Salary': 95000}"
      ]
     },
     "execution_count": 19,
     "metadata": {},
     "output_type": "execute_result"
    }
   ],
   "source": [
    "empd1.pop('Name')\n",
    "empd1"
   ]
  },
  {
   "cell_type": "code",
   "execution_count": 20,
   "id": "7636d202",
   "metadata": {},
   "outputs": [
    {
     "ename": "TypeError",
     "evalue": "pop expected at least 1 argument, got 0",
     "output_type": "error",
     "traceback": [
      "\u001b[1;31m---------------------------------------------------------------------------\u001b[0m",
      "\u001b[1;31mTypeError\u001b[0m                                 Traceback (most recent call last)",
      "\u001b[1;32m~\\AppData\\Local\\Temp/ipykernel_7364/236325212.py\u001b[0m in \u001b[0;36m<module>\u001b[1;34m\u001b[0m\n\u001b[1;32m----> 1\u001b[1;33m \u001b[0mempd1\u001b[0m\u001b[1;33m.\u001b[0m\u001b[0mpop\u001b[0m\u001b[1;33m(\u001b[0m\u001b[1;33m)\u001b[0m\u001b[1;33m\u001b[0m\u001b[1;33m\u001b[0m\u001b[0m\n\u001b[0m",
      "\u001b[1;31mTypeError\u001b[0m: pop expected at least 1 argument, got 0"
     ]
    }
   ],
   "source": [
    "empd1.pop()  # Here we cannot used as used in list"
   ]
  },
  {
   "cell_type": "code",
   "execution_count": 22,
   "id": "7270693f",
   "metadata": {},
   "outputs": [],
   "source": [
    "# Append (extend ) method cannot be used in Dictionary\n",
    "#  it can only be used in List"
   ]
  },
  {
   "cell_type": "code",
   "execution_count": 23,
   "id": "72d5c466",
   "metadata": {},
   "outputs": [
    {
     "data": {
      "text/plain": [
       "{'id': [1, 2, 3], 'Name': ['John', 'Jack', 'Andrew'], 'Grade': [20, 30, 40]}"
      ]
     },
     "execution_count": 23,
     "metadata": {},
     "output_type": "execute_result"
    }
   ],
   "source": [
    "studict={'id':[1,2,3],'Name':['John','Jack','Andrew'],'Grade':[20,30,40]}\n",
    "studict"
   ]
  },
  {
   "cell_type": "code",
   "execution_count": 24,
   "id": "72bd37a2",
   "metadata": {},
   "outputs": [
    {
     "data": {
      "text/plain": [
       "[1, 2, 3]"
      ]
     },
     "execution_count": 24,
     "metadata": {},
     "output_type": "execute_result"
    }
   ],
   "source": [
    "studict['id']"
   ]
  },
  {
   "cell_type": "code",
   "execution_count": 25,
   "id": "b489d9e8",
   "metadata": {},
   "outputs": [
    {
     "data": {
      "text/plain": [
       "dict_keys(['id', 'Name', 'Grade'])"
      ]
     },
     "execution_count": 25,
     "metadata": {},
     "output_type": "execute_result"
    }
   ],
   "source": [
    "studict.keys()"
   ]
  },
  {
   "cell_type": "markdown",
   "id": "4891aef1",
   "metadata": {},
   "source": [
    "# Sets"
   ]
  },
  {
   "cell_type": "markdown",
   "id": "20b3001e",
   "metadata": {},
   "source": [
    "Sets are\n",
    "- unordered\n",
    "- immutable\n",
    "- no indexing\n",
    "- remove duplicate value\n",
    "- it is unique"
   ]
  },
  {
   "cell_type": "code",
   "execution_count": 1,
   "id": "4626af78",
   "metadata": {},
   "outputs": [
    {
     "data": {
      "text/plain": [
       "{22, 33, 45, 78, 90}"
      ]
     },
     "execution_count": 1,
     "metadata": {},
     "output_type": "execute_result"
    }
   ],
   "source": [
    "x={22,33,45,78,90}\n",
    "x"
   ]
  },
  {
   "cell_type": "code",
   "execution_count": 2,
   "id": "21c86698",
   "metadata": {},
   "outputs": [
    {
     "data": {
      "text/plain": [
       "{33, 44, 55, 66, 77}"
      ]
     },
     "execution_count": 2,
     "metadata": {},
     "output_type": "execute_result"
    }
   ],
   "source": [
    "y=set([33,44,55,66,77])\n",
    "y"
   ]
  },
  {
   "cell_type": "code",
   "execution_count": 3,
   "id": "cf8e83d0",
   "metadata": {},
   "outputs": [
    {
     "data": {
      "text/plain": [
       "{22, 33, 45, 48, 67}"
      ]
     },
     "execution_count": 3,
     "metadata": {},
     "output_type": "execute_result"
    }
   ],
   "source": [
    "x={22,33,45,67,48,33} # No dupicates\n",
    "x"
   ]
  },
  {
   "cell_type": "code",
   "execution_count": 4,
   "id": "d43e5db8",
   "metadata": {},
   "outputs": [
    {
     "data": {
      "text/plain": [
       "set"
      ]
     },
     "execution_count": 4,
     "metadata": {},
     "output_type": "execute_result"
    }
   ],
   "source": [
    "days={'Mon','Tue','Wend','Thur',}\n",
    "type(days)"
   ]
  },
  {
   "cell_type": "code",
   "execution_count": 7,
   "id": "6999f788",
   "metadata": {},
   "outputs": [
    {
     "data": {
      "text/plain": [
       "{'Mon', 'Sun', 'Thur', 'Tue', 'Wend'}"
      ]
     },
     "execution_count": 7,
     "metadata": {},
     "output_type": "execute_result"
    }
   ],
   "source": [
    "days.add('Sun')\n",
    "days"
   ]
  },
  {
   "cell_type": "code",
   "execution_count": 5,
   "id": "b19c2f7d",
   "metadata": {},
   "outputs": [
    {
     "ename": "TypeError",
     "evalue": "'set' object is not subscriptable",
     "output_type": "error",
     "traceback": [
      "\u001b[1;31m---------------------------------------------------------------------------\u001b[0m",
      "\u001b[1;31mTypeError\u001b[0m                                 Traceback (most recent call last)",
      "\u001b[1;32m~\\AppData\\Local\\Temp/ipykernel_7840/3899580129.py\u001b[0m in \u001b[0;36m<module>\u001b[1;34m\u001b[0m\n\u001b[1;32m----> 1\u001b[1;33m \u001b[0mprint\u001b[0m\u001b[1;33m(\u001b[0m\u001b[0mdays\u001b[0m\u001b[1;33m[\u001b[0m\u001b[1;36m0\u001b[0m\u001b[1;33m]\u001b[0m\u001b[1;33m)\u001b[0m\u001b[1;33m\u001b[0m\u001b[1;33m\u001b[0m\u001b[0m\n\u001b[0m",
      "\u001b[1;31mTypeError\u001b[0m: 'set' object is not subscriptable"
     ]
    }
   ],
   "source": [
    " print(days[0]) # No indexing"
   ]
  },
  {
   "cell_type": "code",
   "execution_count": 6,
   "id": "c91db2d9",
   "metadata": {},
   "outputs": [
    {
     "ename": "TypeError",
     "evalue": "'set' object does not support item assignment",
     "output_type": "error",
     "traceback": [
      "\u001b[1;31m---------------------------------------------------------------------------\u001b[0m",
      "\u001b[1;31mTypeError\u001b[0m                                 Traceback (most recent call last)",
      "\u001b[1;32m~\\AppData\\Local\\Temp/ipykernel_7840/2108473630.py\u001b[0m in \u001b[0;36m<module>\u001b[1;34m\u001b[0m\n\u001b[1;32m----> 1\u001b[1;33m \u001b[0mdays\u001b[0m\u001b[1;33m[\u001b[0m\u001b[1;36m1\u001b[0m\u001b[1;33m]\u001b[0m\u001b[1;33m=\u001b[0m\u001b[1;34m'June'\u001b[0m\u001b[1;33m\u001b[0m\u001b[1;33m\u001b[0m\u001b[0m\n\u001b[0m",
      "\u001b[1;31mTypeError\u001b[0m: 'set' object does not support item assignment"
     ]
    }
   ],
   "source": [
    "days[1]='June'  "
   ]
  },
  {
   "cell_type": "code",
   "execution_count": 8,
   "id": "71a503a5",
   "metadata": {},
   "outputs": [],
   "source": [
    "days.remove('Sun')"
   ]
  },
  {
   "cell_type": "code",
   "execution_count": 9,
   "id": "22656d88",
   "metadata": {},
   "outputs": [
    {
     "data": {
      "text/plain": [
       "{'Mon', 'Thur', 'Tue', 'Wend'}"
      ]
     },
     "execution_count": 9,
     "metadata": {},
     "output_type": "execute_result"
    }
   ],
   "source": [
    "days"
   ]
  },
  {
   "cell_type": "code",
   "execution_count": 10,
   "id": "eed2b1e4",
   "metadata": {},
   "outputs": [
    {
     "data": {
      "text/plain": [
       "'Wend'"
      ]
     },
     "execution_count": 10,
     "metadata": {},
     "output_type": "execute_result"
    }
   ],
   "source": [
    "days.pop() # unordered so any item it will delete in pop only in sets"
   ]
  },
  {
   "cell_type": "code",
   "execution_count": 11,
   "id": "00f4dca9",
   "metadata": {},
   "outputs": [
    {
     "data": {
      "text/plain": [
       "{'Mon', 'Thur', 'Tue'}"
      ]
     },
     "execution_count": 11,
     "metadata": {},
     "output_type": "execute_result"
    }
   ],
   "source": [
    "days"
   ]
  },
  {
   "cell_type": "code",
   "execution_count": 12,
   "id": "eb60aa59",
   "metadata": {},
   "outputs": [],
   "source": [
    "days.clear()"
   ]
  },
  {
   "cell_type": "markdown",
   "id": "c10d4257",
   "metadata": {},
   "source": [
    "# LOOPS :-\n",
    "\n",
    "While Loop"
   ]
  },
  {
   "cell_type": "code",
   "execution_count": 13,
   "id": "a8963186",
   "metadata": {},
   "outputs": [
    {
     "name": "stdout",
     "output_type": "stream",
     "text": [
      "0\n",
      "1\n",
      "2\n"
     ]
    }
   ],
   "source": [
    "# Initialization\n",
    "i=0\n",
    "\n",
    "# Condition\n",
    "while (i<3):\n",
    "    print(i)\n",
    "    i=i+1 # Increment"
   ]
  },
  {
   "cell_type": "code",
   "execution_count": 16,
   "id": "9567cdfa",
   "metadata": {},
   "outputs": [
    {
     "name": "stdout",
     "output_type": "stream",
     "text": [
      "0\n",
      "2\n",
      "4\n"
     ]
    }
   ],
   "source": [
    "i=0\n",
    "while(i<5):\n",
    "    print(i)\n",
    "    i=i+2"
   ]
  },
  {
   "cell_type": "code",
   "execution_count": 18,
   "id": "c1cdf853",
   "metadata": {},
   "outputs": [
    {
     "name": "stdout",
     "output_type": "stream",
     "text": [
      "0\n",
      "1\n",
      "2\n",
      "3\n"
     ]
    }
   ],
   "source": [
    "j=0\n",
    "while(j<4):\n",
    "    print(j)\n",
    "    j=j+1"
   ]
  },
  {
   "cell_type": "code",
   "execution_count": 19,
   "id": "d8fb3531",
   "metadata": {},
   "outputs": [
    {
     "name": "stdout",
     "output_type": "stream",
     "text": [
      "k= 0\n",
      "k= 1\n",
      "k= 2\n",
      "k= 3\n",
      "k= 4\n",
      "k= 5\n",
      "k= 6\n"
     ]
    }
   ],
   "source": [
    "k=0\n",
    "while(k<7):\n",
    "    print('k=',k)\n",
    "    k=k+1"
   ]
  },
  {
   "cell_type": "code",
   "execution_count": 20,
   "id": "55c2dcce",
   "metadata": {},
   "outputs": [
    {
     "name": "stdout",
     "output_type": "stream",
     "text": [
      "k= 2\n",
      "k= 3\n",
      "k= 4\n",
      "k= 5\n",
      "k= 6\n"
     ]
    }
   ],
   "source": [
    "k=2\n",
    "while(k<7):\n",
    "    print('k=',k)\n",
    "    k=k+1"
   ]
  },
  {
   "cell_type": "code",
   "execution_count": 21,
   "id": "8cb08953",
   "metadata": {},
   "outputs": [
    {
     "name": "stdout",
     "output_type": "stream",
     "text": [
      "0123456789"
     ]
    }
   ],
   "source": [
    "k=0\n",
    "while(k<10):\n",
    "    print(k,end='')\n",
    "    k=k+1"
   ]
  },
  {
   "cell_type": "code",
   "execution_count": 22,
   "id": "1e3c5b87",
   "metadata": {},
   "outputs": [
    {
     "name": "stdout",
     "output_type": "stream",
     "text": [
      "0 1 2 3 4 5 6 7 8 9 "
     ]
    }
   ],
   "source": [
    "k=0\n",
    "while(k<10):\n",
    "    print(k,end=' ')\n",
    "    k=k+1"
   ]
  },
  {
   "cell_type": "markdown",
   "id": "1a82206d",
   "metadata": {},
   "source": [
    "For Loop"
   ]
  },
  {
   "cell_type": "code",
   "execution_count": 23,
   "id": "3b170dff",
   "metadata": {},
   "outputs": [
    {
     "name": "stdout",
     "output_type": "stream",
     "text": [
      "1\n",
      "2\n",
      "3\n"
     ]
    }
   ],
   "source": [
    "for index in [1,2,3]:\n",
    "    print(index)"
   ]
  },
  {
   "cell_type": "code",
   "execution_count": 25,
   "id": "d7a3bc4b",
   "metadata": {},
   "outputs": [
    {
     "name": "stdout",
     "output_type": "stream",
     "text": [
      "10 20 30 40 "
     ]
    }
   ],
   "source": [
    "for i in [10,20,30,40]:\n",
    "    print(i,end=\" \")"
   ]
  },
  {
   "cell_type": "code",
   "execution_count": 27,
   "id": "3eb5bbad",
   "metadata": {},
   "outputs": [
    {
     "name": "stdout",
     "output_type": "stream",
     "text": [
      "21\n",
      "34.3\n",
      "56\n",
      "78\n"
     ]
    }
   ],
   "source": [
    "for j in [21,34.3,56,78]:\n",
    "    print(j)"
   ]
  },
  {
   "cell_type": "code",
   "execution_count": 28,
   "id": "0ed84fd3",
   "metadata": {},
   "outputs": [
    {
     "name": "stdout",
     "output_type": "stream",
     "text": [
      "1.2 34 54 A DC True False "
     ]
    }
   ],
   "source": [
    "for i in [1.2,34,54,'A','DC',True,False]:\n",
    "    print(i,end=' ')"
   ]
  }
 ],
 "metadata": {
  "kernelspec": {
   "display_name": "Python 3 (ipykernel)",
   "language": "python",
   "name": "python3"
  },
  "language_info": {
   "codemirror_mode": {
    "name": "ipython",
    "version": 3
   },
   "file_extension": ".py",
   "mimetype": "text/x-python",
   "name": "python",
   "nbconvert_exporter": "python",
   "pygments_lexer": "ipython3",
   "version": "3.9.7"
  }
 },
 "nbformat": 4,
 "nbformat_minor": 5
}
